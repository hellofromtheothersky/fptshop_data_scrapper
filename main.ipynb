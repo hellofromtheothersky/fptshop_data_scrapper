{
 "cells": [
  {
   "cell_type": "code",
   "execution_count": null,
   "metadata": {},
   "outputs": [],
   "source": [
    "import pandas as pd\n",
    "import page_parsing\n",
    "import json\n",
    "import re\n",
    "\n",
    "import importlib\n",
    "importlib.reload(page_parsing)\n",
    "\n",
    "prods_urls={\n",
    "    'laptop': ('laptop', 'https://fptshop.com.vn/may-doi-tra/may-tinh-xach-tay-cu-gia-re', 'https://fptshop.com.vn/may-tinh-xach-tay'),\n",
    "    'phone': ('phone', 'https://fptshop.com.vn/may-doi-tra/dien-thoai-cu-gia-re', 'https://fptshop.com.vn/dien-thoai'),\n",
    "    'tablet': ('tablet', 'https://fptshop.com.vn/may-doi-tra/may-tinh-bang-cu-gia-re', 'https://fptshop.com.vn/may-tinh-bang')\n",
    "}\n",
    "filename, old_prods_url, new_prods_url=prods_urls['tablet'] #option\n",
    "filename='data/'+filename"
   ]
  },
  {
   "cell_type": "code",
   "execution_count": null,
   "metadata": {},
   "outputs": [],
   "source": [
    "def new_prods_list():\n",
    "    prods=page_parsing.get_products_overview(old_prods_url)\n",
    "    with open(filename+'.json', 'w') as f:\n",
    "        json.dump(prods, f)\n",
    "new_prods_list()"
   ]
  },
  {
   "cell_type": "code",
   "execution_count": null,
   "metadata": {},
   "outputs": [],
   "source": [
    "with open(filename+'.json', 'r') as f:\n",
    "    prods=json.load(f)\n",
    "\n",
    "for i in range(len(prods)):\n",
    "    if len(prods[i])>4: #got detail\n",
    "        continue\n",
    "\n",
    "    prod_link=prods[i]['Link']\n",
    "    prod_link=new_prods_url+'/'+re.findall(r'\\/([^\\/]*)-htm', prod_link)[0]\n",
    "    try: \n",
    "        row=page_parsing.get_product_detail(prod_link)\n",
    "    except page_parsing.NoSuchElementException:\n",
    "        print('!!! Cant scrape:', prod_link)\n",
    "    else:\n",
    "        prods[i].update(row)\n",
    "        print('+1 detail:', prod_link)\n",
    "        with open(filename+'.json', 'w') as f:\n",
    "            json.dump(prods, f)\n",
    "        print('saved')\n"
   ]
  },
  {
   "cell_type": "code",
   "execution_count": null,
   "metadata": {},
   "outputs": [],
   "source": [
    "def save_to_excel():\n",
    "    with open(filename+'.json', 'r') as f:\n",
    "        data=json.load(f)\n",
    "\n",
    "    data_df=pd.DataFrame(data)\n",
    "    data_df.set_index(data_df.columns[0], inplace=True)\n",
    "    data_df.to_excel(filename+'.xlsx')\n",
    "save_to_excel()"
   ]
  }
 ],
 "metadata": {
  "kernelspec": {
   "display_name": "Python 3.9.6 64-bit",
   "language": "python",
   "name": "python3"
  },
  "language_info": {
   "codemirror_mode": {
    "name": "ipython",
    "version": 3
   },
   "file_extension": ".py",
   "mimetype": "text/x-python",
   "name": "python",
   "nbconvert_exporter": "python",
   "pygments_lexer": "ipython3",
   "version": "3.9.6"
  },
  "orig_nbformat": 4,
  "vscode": {
   "interpreter": {
    "hash": "bbf0cc2bc4224b786e6104dceef77e78e1fd0445856c93ad0e78eee8b373e464"
   }
  }
 },
 "nbformat": 4,
 "nbformat_minor": 2
}
